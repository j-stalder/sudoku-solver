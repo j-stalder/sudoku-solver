{
 "cells": [
  {
   "cell_type": "markdown",
   "metadata": {},
   "source": [
    "# Sudoku-solver\n",
    "This short Jupyter Notebook contains a Sudoku-solver using a simple backtracking algorithm.\n",
    "Sudoku is quite a popular puzzle that is often found in magazines and newspapers. \n",
    "The rules are as followed: in a 9x9 matrix the number 1 to 9 should only be filed in once per column and per row. Further the board is divided in 9 little 3x3 matrices which have to include all numbers from 1-9.\n",
    "\n",
    "\n",
    "![title](blank-sudoku-grid.png)"
   ]
  },
  {
   "cell_type": "code",
   "execution_count": 1,
   "metadata": {},
   "outputs": [],
   "source": [
    "import numpy as np"
   ]
  },
  {
   "cell_type": "code",
   "execution_count": 2,
   "metadata": {},
   "outputs": [],
   "source": [
    "# example of a Sudoku-puzzle that has been encountered in a newspaper. The blank spaces are represented by zeros.\n",
    "board = [\n",
    "    [8,7,0,5,0,0,0,0,0],\n",
    "    [6,0,0,7,0,0,5,0,0],\n",
    "    [3,0,0,0,4,0,0,0,0],\n",
    "    [0,3,0,9,0,0,0,2,5],\n",
    "    [4,0,0,0,3,0,0,0,9],\n",
    "    [7,9,0,0,0,1,0,8,0],\n",
    "    [0,0,0,0,2,0,0,0,7],\n",
    "    [0,0,3,0,0,9,0,0,1],\n",
    "    [0,0,0,0,0,5,0,9,8],\n",
    "]"
   ]
  },
  {
   "cell_type": "code",
   "execution_count": 3,
   "metadata": {},
   "outputs": [
    {
     "name": "stdout",
     "output_type": "stream",
     "text": [
      "[[8 7 0 5 0 0 0 0 0]\n",
      " [6 0 0 7 0 0 5 0 0]\n",
      " [3 0 0 0 4 0 0 0 0]\n",
      " [0 3 0 9 0 0 0 2 5]\n",
      " [4 0 0 0 3 0 0 0 9]\n",
      " [7 9 0 0 0 1 0 8 0]\n",
      " [0 0 0 0 2 0 0 0 7]\n",
      " [0 0 3 0 0 9 0 0 1]\n",
      " [0 0 0 0 0 5 0 9 8]]\n"
     ]
    }
   ],
   "source": [
    "#display the board\n",
    "print(np.matrix(board))"
   ]
  },
  {
   "cell_type": "code",
   "execution_count": 4,
   "metadata": {},
   "outputs": [],
   "source": [
    "# check possability\n",
    "def possible(y,x,n): #y-axis,x-axis, place\n",
    "    for i in range(0,9):\n",
    "        if board[y][i] == n:\n",
    "            return False\n",
    "    for i in range(0,9):\n",
    "        if board[i][x] == n:\n",
    "            return False\n",
    "    x0 = (x//3)*3\n",
    "    y0 = (y//3)*3\n",
    "    for i in range(0,3):\n",
    "        for j in range(0,3):\n",
    "            if board[y0+i][x0+j] == n:\n",
    "                return False\n",
    "    return True"
   ]
  },
  {
   "cell_type": "markdown",
   "metadata": {},
   "source": [
    "## Run a possability test\n",
    "You can run a possabilitiy test, for instance: Can you insert the number 3 at y=4,x=4 based on the given values of the board?"
   ]
  },
  {
   "cell_type": "code",
   "execution_count": 5,
   "metadata": {},
   "outputs": [
    {
     "data": {
      "text/plain": [
       "False"
      ]
     },
     "execution_count": 5,
     "metadata": {},
     "output_type": "execute_result"
    }
   ],
   "source": [
    "possible(4,4,9)"
   ]
  },
  {
   "cell_type": "code",
   "execution_count": 6,
   "metadata": {},
   "outputs": [],
   "source": [
    "#implenting a solver using a backtracking attempt\n",
    "def solve():\n",
    "    global board\n",
    "    for y in range(9):\n",
    "        for x in range(9):\n",
    "            if board[y][x]==0:\n",
    "                for n in range(1,10):\n",
    "                    if possible(y,x,n):\n",
    "                        board[y][x] = n\n",
    "                        solve()\n",
    "                        board[y][x]=0\n",
    "                return      \n",
    "    print(np.matrix(board))\n",
    "   \n",
    "    input(\"Do alternative solutions exists?\")"
   ]
  },
  {
   "cell_type": "code",
   "execution_count": 7,
   "metadata": {},
   "outputs": [
    {
     "name": "stdout",
     "output_type": "stream",
     "text": [
      "[[8 7 4 5 6 3 9 1 2]\n",
      " [6 2 1 7 9 8 5 3 4]\n",
      " [3 5 9 1 4 2 8 7 6]\n",
      " [1 3 6 9 8 4 7 2 5]\n",
      " [4 8 5 2 3 7 1 6 9]\n",
      " [7 9 2 6 5 1 4 8 3]\n",
      " [9 1 8 4 2 6 3 5 7]\n",
      " [5 6 3 8 7 9 2 4 1]\n",
      " [2 4 7 3 1 5 6 9 8]]\n",
      "Do alternative solutions exists?\n"
     ]
    }
   ],
   "source": [
    "solve()"
   ]
  },
  {
   "cell_type": "markdown",
   "metadata": {},
   "source": [
    "# Alternative Solutions\n",
    "Sometimes \"bad\" Sudoku puzzle allow for more than one solution. If so the search alogirthm can be executed once more and the alternavite solution will be printed out.\n",
    "In order to find a alternative solution for the current puzzle you may delete one of the predetermined values of the board. For example the value equal to 5 for (y=9, x=6)."
   ]
  },
  {
   "cell_type": "code",
   "execution_count": null,
   "metadata": {},
   "outputs": [],
   "source": []
  }
 ],
 "metadata": {
  "kernelspec": {
   "display_name": "Python 3",
   "language": "python",
   "name": "python3"
  },
  "language_info": {
   "codemirror_mode": {
    "name": "ipython",
    "version": 3
   },
   "file_extension": ".py",
   "mimetype": "text/x-python",
   "name": "python",
   "nbconvert_exporter": "python",
   "pygments_lexer": "ipython3",
   "version": "3.7.6"
  }
 },
 "nbformat": 4,
 "nbformat_minor": 4
}
